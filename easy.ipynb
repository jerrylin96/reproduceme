{
 "cells": [
  {
   "cell_type": "code",
   "execution_count": 1,
   "metadata": {},
   "outputs": [
    {
     "name": "stdout",
     "output_type": "stream",
     "text": [
      "v026.ib.bridges2.psc.edu\n"
     ]
    }
   ],
   "source": [
    "!hostname"
   ]
  },
  {
   "cell_type": "code",
   "execution_count": 2,
   "metadata": {},
   "outputs": [
    {
     "name": "stderr",
     "output_type": "stream",
     "text": [
      "2024-03-16 14:47:14.841619: I tensorflow/core/platform/cpu_feature_guard.cc:193] This TensorFlow binary is optimized with oneAPI Deep Neural Network Library (oneDNN) to use the following CPU instructions in performance-critical operations:  AVX2 AVX512F FMA\n",
      "To enable them in other operations, rebuild TensorFlow with the appropriate compiler flags.\n",
      "2024-03-16 14:47:15.032195: E tensorflow/stream_executor/cuda/cuda_blas.cc:2981] Unable to register cuBLAS factory: Attempting to register factory for plugin cuBLAS when one has already been registered\n",
      "2024-03-16 14:47:16.064516: W tensorflow/stream_executor/platform/default/dso_loader.cc:64] Could not load dynamic library 'libnvinfer.so.7'; dlerror: libnvinfer.so.7: cannot open shared object file: No such file or directory; LD_LIBRARY_PATH: /opt/packages/cuda/v11.7.1/lib64:/opt/packages/cuda/v11.7.1/nvvm/lib64:/opt/packages/cuda/v11.7.1/extras/CUPTI/lib64:/jet/home/jlin96/.conda/envs/wandbenv/lib/\n",
      "2024-03-16 14:47:16.064637: W tensorflow/stream_executor/platform/default/dso_loader.cc:64] Could not load dynamic library 'libnvinfer_plugin.so.7'; dlerror: libnvinfer_plugin.so.7: cannot open shared object file: No such file or directory; LD_LIBRARY_PATH: /opt/packages/cuda/v11.7.1/lib64:/opt/packages/cuda/v11.7.1/nvvm/lib64:/opt/packages/cuda/v11.7.1/extras/CUPTI/lib64:/jet/home/jlin96/.conda/envs/wandbenv/lib/\n",
      "2024-03-16 14:47:16.064645: W tensorflow/compiler/tf2tensorrt/utils/py_utils.cc:38] TF-TRT Warning: Cannot dlopen some TensorRT libraries. If you would like to use Nvidia GPU with TensorRT, please make sure the missing libraries mentioned above are installed properly.\n"
     ]
    }
   ],
   "source": [
    "import numpy as np\n",
    "import tensorflow as tf\n",
    "from tensorflow import keras\n",
    "from keras.models import Sequential\n",
    "from keras.layers import Dense\n",
    "from keras.layers import BatchNormalization\n",
    "from keras.layers import LeakyReLU\n",
    "from keras.layers import Dropout\n",
    "import tensorflow_addons as tfa\n",
    "from qhoptim.tf import QHAdamOptimizer\n",
    "from tensorflow.keras import callbacks\n",
    "import keras_tuner as kt\n",
    "import os\n",
    "import random\n",
    "import wandb\n",
    "from wandb.keras import WandbMetricsLogger, WandbModelCheckpoint\n",
    "import logging"
   ]
  },
  {
   "cell_type": "code",
   "execution_count": 3,
   "metadata": {},
   "outputs": [],
   "source": [
    "# os.environ['TF_CUDNN_DETERMINISTIC'] = '1'\n",
    "# random.seed(hash('setting random seeds') % 2**32 - 1)\n",
    "# np.random.seed(hash('improves reproducibility') % 2**32 - 1)\n",
    "# tf.random.set_seed(hash('by removing stochasticity') % 2**32 - 1)\n",
    "# gpus = tf.config.experimental.list_physical_devices('GPU')\n",
    "# if gpus:\n",
    "#     try:\n",
    "#         # Currently, memory growth needs to be the same across GPUs\n",
    "#         for gpu in gpus:\n",
    "#             tf.config.experimental.set_memory_growth(gpu, True)\n",
    "#     except RuntimeError as e:\n",
    "#         # Memory growth must be set before GPUs have been initialized\n",
    "#         print(e)"
   ]
  },
  {
   "cell_type": "code",
   "execution_count": 4,
   "metadata": {},
   "outputs": [],
   "source": [
    "# !cp -v /ocean/projects/atm200007p/jlin96/nnspreadtesting_2/smalldata/training/training_data/* /dev/shm"
   ]
  },
  {
   "cell_type": "code",
   "execution_count": 5,
   "metadata": {},
   "outputs": [],
   "source": [
    "# data_path = '/ocean/projects/atm200007p/jlin96/nnspreadtesting_2/overfitmepls/training/training_data/'\n",
    "\n",
    "# data_path  = '/dev/shm/'\n",
    "# train_input = np.load(data_path + 'train_input.npy', mmap_mode = 'r')\n",
    "# train_target = np.load(data_path + 'train_target.npy', mmap_mode = 'r')\n",
    "# val_input = np.load(data_path + 'val_input.npy', mmap_mode = 'r')\n",
    "# val_target = np.load(data_path + 'val_target.npy', mmap_mode = 'r')"
   ]
  },
  {
   "cell_type": "code",
   "execution_count": 6,
   "metadata": {},
   "outputs": [
    {
     "name": "stderr",
     "output_type": "stream",
     "text": [
      "2024-03-16 14:47:18.940239: I tensorflow/core/platform/cpu_feature_guard.cc:193] This TensorFlow binary is optimized with oneAPI Deep Neural Network Library (oneDNN) to use the following CPU instructions in performance-critical operations:  AVX2 AVX512F FMA\n",
      "To enable them in other operations, rebuild TensorFlow with the appropriate compiler flags.\n",
      "2024-03-16 14:47:19.472419: I tensorflow/core/common_runtime/gpu/gpu_device.cc:1616] Created device /job:localhost/replica:0/task:0/device:GPU:0 with 14745 MB memory:  -> device: 0, name: Tesla V100-SXM2-16GB, pci bus id: 0000:b2:00.0, compute capability: 7.0\n"
     ]
    }
   ],
   "source": [
    "data_path = '/ocean/projects/atm200007p/jlin96/nnspreadtesting_2/bigdata/training/training_data/'\n",
    "\n",
    "# data_path  = '/dev/shm/'\n",
    "train_input = np.load(data_path + 'train_input.npy', mmap_mode='r')\n",
    "train_target = np.load(data_path + 'train_target.npy', mmap_mode='r')\n",
    "val_input = np.load(data_path + 'val_input.npy', mmap_mode='r')\n",
    "val_target = np.load(data_path + 'val_target.npy', mmap_mode='r')\n",
    "\n",
    "batch_size = 5000\n",
    "shuffle_buffer = 100000\n",
    "\n",
    "def data_generator(inputs, targets):\n",
    "    # Iterate over the dataset in batches\n",
    "    for i in range(0, len(inputs)):\n",
    "        # Yield a batch of data\n",
    "        yield inputs[i], targets[i]\n",
    "\n",
    "with tf.device('/CPU:0'):\n",
    "    train_ds = tf.data.Dataset.from_generator(\n",
    "        lambda: data_generator(train_input, train_target),\n",
    "                               output_signature=(tf.TensorSpec(shape=(175), dtype=tf.float32),\n",
    "                                                 tf.TensorSpec(shape=(55), dtype=tf.float32))).shuffle(buffer_size=shuffle_buffer).batch(batch_size)\n",
    "\n",
    "    val_ds = tf.data.Dataset.from_generator(\n",
    "        lambda: data_generator(val_input, val_target),\n",
    "                               output_signature=(tf.TensorSpec(shape=(175), dtype=tf.float32),\n",
    "                                                 tf.TensorSpec(shape=(55), dtype=tf.float32))).shuffle(buffer_size=shuffle_buffer).batch(batch_size)\n",
    "\n",
    "train_ds = train_ds.prefetch(tf.data.AUTOTUNE)\n",
    "val_ds = val_ds.prefetch(tf.data.AUTOTUNE)"
   ]
  },
  {
   "cell_type": "code",
   "execution_count": 7,
   "metadata": {},
   "outputs": [
    {
     "name": "stdout",
     "output_type": "stream",
     "text": [
      "\u001b[34m\u001b[1mwandb\u001b[0m: Currently logged in as: \u001b[33mjerrylin247365\u001b[0m (\u001b[33mcbrain\u001b[0m). Use \u001b[1m`wandb login --relogin`\u001b[0m to force relogin\n"
     ]
    }
   ],
   "source": [
    "!wandb login"
   ]
  },
  {
   "cell_type": "code",
   "execution_count": 8,
   "metadata": {},
   "outputs": [],
   "source": [
    "def build_model(hp:dict):\n",
    "    alpha = hp[\"leak\"]\n",
    "    dp_rate = hp[\"dropout\"]\n",
    "    batch_norm = hp[\"batch_normalization\"]\n",
    "    model = Sequential()\n",
    "    hiddenUnits = hp['hidden_units']\n",
    "    model.add(Dense(units = hiddenUnits, input_dim=175, kernel_initializer='normal'))\n",
    "    model.add(LeakyReLU(alpha = alpha))\n",
    "    if batch_norm:\n",
    "        model.add(BatchNormalization())\n",
    "    model.add(Dropout(dp_rate))\n",
    "    for i in range(hp[\"num_layers\"]):\n",
    "        model.add(Dense(units = hiddenUnits, kernel_initializer='normal'))\n",
    "        model.add(LeakyReLU(alpha = alpha))\n",
    "        if batch_norm:\n",
    "            model.add(BatchNormalization())\n",
    "        model.add(Dropout(dp_rate))\n",
    "    model.add(Dense(55, kernel_initializer='normal', activation='linear'))\n",
    "    initial_learning_rate = hp[\"lr\"]\n",
    "    optimizer = hp[\"optimizer\"]\n",
    "    if optimizer == \"adam\":\n",
    "        optimizer = keras.optimizers.Adam(learning_rate = initial_learning_rate)\n",
    "    elif optimizer == \"RMSprop\":\n",
    "        optimizer = keras.optimizers.RMSprop(learning_rate = initial_learning_rate)\n",
    "    elif optimizer == \"RAdam\":\n",
    "        optimizer = tfa.optimizers.RectifiedAdam(learning_rate = initial_learning_rate)\n",
    "    elif optimizer == \"QHAdam\":\n",
    "        optimizer = QHAdamOptimizer(learning_rate = initial_learning_rate, nu2=1.0, beta1=0.995, beta2=0.999)\n",
    "    model.compile(optimizer = optimizer, loss = 'mse', metrics = [\"mse\"])\n",
    "    return model"
   ]
  },
  {
   "cell_type": "code",
   "execution_count": 9,
   "metadata": {},
   "outputs": [],
   "source": [
    "num_epochs = 5\n",
    "hp = {'leak':0.37343, \\\n",
    "      'dropout':0.042309, \\\n",
    "      'lr':0.0011942, \\\n",
    "      'hidden_units':336, \\\n",
    "      'num_layers':6, \\\n",
    "      'optimizer':\"RAdam\", \\\n",
    "      'batch_normalization':1}\n",
    "model = build_model(hp)"
   ]
  },
  {
   "cell_type": "code",
   "execution_count": 10,
   "metadata": {},
   "outputs": [
    {
     "name": "stderr",
     "output_type": "stream",
     "text": [
      "\u001b[34m\u001b[1mwandb\u001b[0m: Currently logged in as: \u001b[33mjerrylin247365\u001b[0m (\u001b[33mcbrain\u001b[0m). Use \u001b[1m`wandb login --relogin`\u001b[0m to force relogin\n"
     ]
    },
    {
     "data": {
      "text/html": [
       "Tracking run with wandb version 0.16.4"
      ],
      "text/plain": [
       "<IPython.core.display.HTML object>"
      ]
     },
     "metadata": {},
     "output_type": "display_data"
    },
    {
     "data": {
      "text/html": [
       "Run data is saved locally in <code>/ocean/projects/atm200007p/jlin96/reproduceme/wandb/run-20240316_144729-9759fdzz</code>"
      ],
      "text/plain": [
       "<IPython.core.display.HTML object>"
      ]
     },
     "metadata": {},
     "output_type": "display_data"
    },
    {
     "data": {
      "text/html": [
       "Syncing run <strong><a href='https://wandb.ai/cbrain/debug221/runs/9759fdzz' target=\"_blank\">newstandard</a></strong> to <a href='https://wandb.ai/cbrain/debug221' target=\"_blank\">Weights & Biases</a> (<a href='https://wandb.me/run' target=\"_blank\">docs</a>)<br/>"
      ],
      "text/plain": [
       "<IPython.core.display.HTML object>"
      ]
     },
     "metadata": {},
     "output_type": "display_data"
    },
    {
     "data": {
      "text/html": [
       " View project at <a href='https://wandb.ai/cbrain/debug221' target=\"_blank\">https://wandb.ai/cbrain/debug221</a>"
      ],
      "text/plain": [
       "<IPython.core.display.HTML object>"
      ]
     },
     "metadata": {},
     "output_type": "display_data"
    },
    {
     "data": {
      "text/html": [
       " View run at <a href='https://wandb.ai/cbrain/debug221/runs/9759fdzz' target=\"_blank\">https://wandb.ai/cbrain/debug221/runs/9759fdzz</a>"
      ],
      "text/plain": [
       "<IPython.core.display.HTML object>"
      ]
     },
     "metadata": {},
     "output_type": "display_data"
    },
    {
     "data": {
      "text/html": [
       "<button onClick=\"this.nextSibling.style.display='block';this.style.display='none';\">Display W&B run</button><iframe src='https://wandb.ai/cbrain/debug221/runs/9759fdzz?jupyter=true' style='border:none;width:100%;height:420px;display:none;'></iframe>"
      ],
      "text/plain": [
       "<wandb.sdk.wandb_run.Run at 0x14d2502d9df0>"
      ]
     },
     "execution_count": 10,
     "metadata": {},
     "output_type": "execute_result"
    }
   ],
   "source": [
    "wandb.init(\n",
    "    # set the wandb project where this run will be logged\n",
    "    project=\"debug221\", \n",
    "    # track hyperparameters and run metadata\n",
    "    config=hp,\n",
    "    name='newstandard'\n",
    ")"
   ]
  },
  {
   "cell_type": "code",
   "execution_count": 11,
   "metadata": {},
   "outputs": [
    {
     "name": "stdout",
     "output_type": "stream",
     "text": [
      "Epoch 1/5\n"
     ]
    },
    {
     "name": "stdout",
     "output_type": "stream",
     "text": [
      "    711/Unknown - 285s 387ms/step - loss: 0.4092 - mse: 0.4092"
     ]
    }
   ],
   "source": [
    "model.fit(train_ds, validation_data = val_ds, epochs = num_epochs, batch_size = batch_size, callbacks = [WandbMetricsLogger(), WandbModelCheckpoint('tuning_directory')])"
   ]
  },
  {
   "cell_type": "code",
   "execution_count": null,
   "metadata": {},
   "outputs": [],
   "source": []
  }
 ],
 "metadata": {
  "kernelspec": {
   "display_name": "Python 3 (ipykernel)",
   "language": "python",
   "name": "python3"
  },
  "language_info": {
   "codemirror_mode": {
    "name": "ipython",
    "version": 3
   },
   "file_extension": ".py",
   "mimetype": "text/x-python",
   "name": "python",
   "nbconvert_exporter": "python",
   "pygments_lexer": "ipython3",
   "version": "3.8.5"
  }
 },
 "nbformat": 4,
 "nbformat_minor": 2
}
